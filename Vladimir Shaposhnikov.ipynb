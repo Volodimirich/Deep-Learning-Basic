{
 "cells": [
  {
   "cell_type": "code",
   "execution_count": 1,
   "id": "d45dcd59",
   "metadata": {},
   "outputs": [
    {
     "name": "stdout",
     "output_type": "stream",
     "text": [
      "Requirement already satisfied: torchmetrics in ./lib/python3.9/site-packages (0.7.3)\n",
      "Requirement already satisfied: torch>=1.3.1 in ./lib/python3.9/site-packages (from torchmetrics) (1.12.1)\n",
      "Requirement already satisfied: numpy>=1.17.2 in ./lib/python3.9/site-packages (from torchmetrics) (1.21.4)\n",
      "Requirement already satisfied: packaging in ./lib/python3.9/site-packages (from torchmetrics) (21.3)\n",
      "Requirement already satisfied: pyDeprecate==0.3.* in ./lib/python3.9/site-packages (from torchmetrics) (0.3.2)\n",
      "Requirement already satisfied: typing-extensions in ./lib/python3.9/site-packages (from torch>=1.3.1->torchmetrics) (4.0.1)\n",
      "Requirement already satisfied: pyparsing!=3.0.5,>=2.0.2 in ./lib/python3.9/site-packages (from packaging->torchmetrics) (3.0.6)\n",
      "\n",
      "\u001b[1m[\u001b[0m\u001b[34;49mnotice\u001b[0m\u001b[1;39;49m]\u001b[0m\u001b[39;49m A new release of pip available: \u001b[0m\u001b[31;49m22.2.2\u001b[0m\u001b[39;49m -> \u001b[0m\u001b[32;49m23.0\u001b[0m\n",
      "\u001b[1m[\u001b[0m\u001b[34;49mnotice\u001b[0m\u001b[1;39;49m]\u001b[0m\u001b[39;49m To update, run: \u001b[0m\u001b[32;49mpip install --upgrade pip\u001b[0m\n"
     ]
    }
   ],
   "source": [
    "!pip3 install torchmetrics"
   ]
  },
  {
   "cell_type": "code",
   "execution_count": 2,
   "id": "4752dfbd",
   "metadata": {},
   "outputs": [],
   "source": [
    "%matplotlib inline\n",
    "import torch\n",
    "\n",
    "from torchvision import transforms\n",
    "\n",
    "from PIL import Image\n",
    "from torchvision import datasets, transforms, models\n",
    "from torch.utils.data import Dataset, DataLoader\n",
    "\n",
    "from sklearn.model_selection import train_test_split\n",
    "import torch.nn as nn\n",
    "import torch.nn.functional as F\n",
    "\n",
    "import torchmetrics\n",
    "\n",
    "\n",
    "\n",
    "import glob\n",
    "from tqdm import tqdm"
   ]
  },
  {
   "cell_type": "code",
   "execution_count": 3,
   "id": "6e5e7537",
   "metadata": {},
   "outputs": [],
   "source": [
    "device = \"cuda:1\" if torch.cuda.is_available() else \"cpu\"\n"
   ]
  },
  {
   "cell_type": "markdown",
   "id": "4ec155c3",
   "metadata": {},
   "source": [
    "### Подготовка данных"
   ]
  },
  {
   "cell_type": "code",
   "execution_count": 4,
   "id": "cc8b0c62",
   "metadata": {},
   "outputs": [],
   "source": [
    "class CustomDataset(Dataset):\n",
    "\n",
    "    def __init__(self, path='samples', transform=None):\n",
    "        self.data = [(path, self._filename_encoding(path)) for path in glob.iglob(f'{path}/*')]\n",
    "        self.transform = transform\n",
    "        \n",
    "    def _filename_encoding(self, filepath):\n",
    "        filename = filepath[filepath.rfind('/') + 1: filepath.rfind('.')]\n",
    "        encodded_message = []\n",
    "        for let in filename:\n",
    "            if ord(let) >= ord('0') and ord(let) <= ord('9'):\n",
    "                encodded_message.append(ord('z') - ord('a') + int(let) + 1)\n",
    "            else:\n",
    "                encodded_message.append(ord(let) - ord('a'))\n",
    "        return encodded_message\n",
    "                \n",
    "        \n",
    "\n",
    "    def __len__(self):\n",
    "        return len(self.data)\n",
    "\n",
    "    def __getitem__(self, idx):\n",
    "        if torch.is_tensor(idx):\n",
    "            idx = idx.tolist()\n",
    "\n",
    "        filepath, target = self.data[idx]\n",
    "        img = Image.open(filepath).convert('L')\n",
    "        \n",
    "        if self.transform:\n",
    "            sample = self.transform(sample)\n",
    "        else:\n",
    "            convert_tensor = transforms.ToTensor()\n",
    "            sample = convert_tensor(img)\n",
    "\n",
    "        return sample, torch.tensor(target)"
   ]
  },
  {
   "cell_type": "code",
   "execution_count": 19,
   "id": "4693da33",
   "metadata": {},
   "outputs": [],
   "source": [
    "data = CustomDataset()\n",
    "train_dataset, test_dataset = train_test_split(data, test_size=0.2, random_state=42)\n",
    "\n",
    "train_loader = DataLoader(train_dataset, batch_size=32, shuffle=True)\n",
    "test_loader = DataLoader(test_dataset, batch_size=32, shuffle=False)"
   ]
  },
  {
   "cell_type": "code",
   "execution_count": 20,
   "id": "145fed55",
   "metadata": {},
   "outputs": [
    {
     "name": "stdout",
     "output_type": "stream",
     "text": [
      "<class 'torch.Tensor'> <class 'torch.Tensor'>\n"
     ]
    }
   ],
   "source": [
    "for el, lab in train_loader:\n",
    "    print(type(el), type(lab))\n",
    "    break"
   ]
  },
  {
   "cell_type": "markdown",
   "id": "7d122012",
   "metadata": {},
   "source": [
    "### Создание и обучение модели"
   ]
  },
  {
   "cell_type": "code",
   "execution_count": 21,
   "id": "c5a2265f",
   "metadata": {},
   "outputs": [],
   "source": [
    "class ConvPoolBlock(nn.Module):\n",
    "    def __init__(self, in_channels, out_channels, conv_kernel=3, pool_kernel=2):\n",
    "        super(ConvPoolBlock, self).__init__()\n",
    "        self.conv_block = nn.Sequential(\n",
    "            nn.Conv2d(in_channels=in_channels, out_channels=out_channels, kernel_size=conv_kernel),\n",
    "            nn.MaxPool2d(kernel_size=pool_kernel, stride=2),\n",
    "            nn.BatchNorm2d(out_channels),\n",
    "            nn.ReLU(),\n",
    "            nn.Dropout(p=0.15)\n",
    "        )\n",
    "    def forward(self, x):\n",
    "        return self.conv_block(x)\n",
    "\n",
    "\n",
    "\n",
    "class Network(nn.Module):\n",
    "\n",
    "    def __init__(self, in_channels, num_classes=35):\n",
    "        super(Network, self).__init__()\n",
    "\n",
    "        self.conv_part = nn.Sequential(\n",
    "            ConvPoolBlock(in_channels=1, out_channels=64, conv_kernel=3, pool_kernel=2),\n",
    "            ConvPoolBlock(in_channels=64, out_channels=128, conv_kernel=3, pool_kernel=2),\n",
    "            ConvPoolBlock(in_channels=128, out_channels=256, conv_kernel=3, pool_kernel=2), \n",
    "            ConvPoolBlock(in_channels=256, out_channels=512, conv_kernel=3, pool_kernel=2)\n",
    "            )\n",
    "        \n",
    "        self.linear = nn.Linear(512, 128)\n",
    "        self.lstm = nn.LSTM(128, 256, num_layers=2, bidirectional=True)\n",
    "        self.linear_final = nn.Linear(2 * 256, num_classes)\n",
    "        \n",
    "    def forward(self, x):\n",
    "        out = self.conv_part(x)\n",
    "        b, c, h, w = out.size()\n",
    "        out = out.view(b, -1, w).permute(0, 2, 1)\n",
    "        out = self.linear(out).permute(1, 0, 2)\n",
    "        out, _ = self.lstm(out)\n",
    "        out = self.linear_final(out)\n",
    "    \n",
    "        input_lengths = torch.full(size=(out.size(1),), fill_value=out.size(0), dtype=torch.int32)\n",
    "        target_lengths = torch.full(size=(out.size(1),), fill_value=5, dtype=torch.int32)\n",
    "        return out, input_lengths, target_lengths"
   ]
  },
  {
   "cell_type": "code",
   "execution_count": 22,
   "id": "259aaeeb",
   "metadata": {},
   "outputs": [],
   "source": [
    "def decode_nums(preds):\n",
    "    result = []\n",
    "    for word in preds:\n",
    "        predicted = []\n",
    "        for symb in word:\n",
    "            if symb > ord('z') - ord('a'):\n",
    "                symb -= ord('z') - ord('a') + 1\n",
    "                predicted.append(str(symb))\n",
    "            else:\n",
    "                symb += ord('a')\n",
    "                predicted.append(chr(symb))\n",
    "        result.append(''.join(predicted))\n",
    "    return result\n",
    "        "
   ]
  },
  {
   "cell_type": "code",
   "execution_count": 27,
   "id": "3482be84",
   "metadata": {},
   "outputs": [],
   "source": [
    "def epoch_train(loader, clf, criterion, opt, metric):\n",
    "    clf.train(True)\n",
    "    loss_list, cte_list = [], []\n",
    "    for img, label in loader:\n",
    "        img, labels = img.to(device), label.to(device) \n",
    "\n",
    "        out, input_lengths, target_lengths = clf.forward(img)\n",
    "        log_prob = F.log_softmax(out, dim=2)\n",
    "\n",
    "        loss = criterion(log_prob, labels, input_lengths, target_lengths)\n",
    "        \n",
    "        opt.zero_grad()\n",
    "        loss.backward()\n",
    "        opt.step()\n",
    "        \n",
    "        out = out.permute(1, 0, 2)\n",
    "        out = out.log_softmax(2)\n",
    "        out = out.argmax(-1)\n",
    "        \n",
    "        decoded_out = decode_nums(out)\n",
    "        decoded_labels = decode_nums(labels)\n",
    "\n",
    "        loss_list.append(loss.item())\n",
    "        cte_list.append(metric(decoded_out, decoded_labels).item())\n",
    "        \n",
    "    return sum(loss_list)/len(loader), sum(cte_list) / len(loader) \n",
    " \n",
    "    # END Solution (do not delete this comment!)\n",
    "    \n",
    "def epoch_test(loader, clf, criterion, metric):\n",
    "    # BEGIN Solution (do not delete this comment!)\n",
    "\n",
    "    clf.eval()\n",
    "    loss_list, cte_list = [], []\n",
    "    for img, label in loader:\n",
    "        img, labels = img.to(device), label.to(device) \n",
    "        out, input_lengths, target_lengths = clf.forward(img)\n",
    "        log_prob = F.log_softmax(out, dim=2)\n",
    "\n",
    "        loss = criterion(log_prob, labels, input_lengths, target_lengths)\n",
    "        \n",
    "       \n",
    "        out = out.permute(1, 0, 2)\n",
    "        out = out.log_softmax(2)\n",
    "        out = out.argmax(-1)\n",
    "        \n",
    "        decoded_out = decode_nums(out)\n",
    "        decoded_labels = decode_nums(labels)\n",
    "\n",
    "        loss_list.append(loss.item())\n",
    "        cte_list.append(metric(decoded_out, decoded_labels).item())\n",
    "        \n",
    "    return sum(loss_list)/len(loader), sum(cte_list) / len(loader) \n",
    "    # END Solution (do not delete this comment!)\n",
    "\n",
    "# The function which you are going to use for model training\n",
    "def train(train_loader, test_loader, clf, criterion, opt, metric, n_epochs=50):\n",
    "    tr_loss_lst, tst_loss_lst, tr_cte_lst, tst_cte_lst = [], [], [], []\n",
    "    for epoch in tqdm(range(n_epochs)):\n",
    "        train_loss, train_cte = epoch_train(train_loader, clf, criterion, opt, metric)\n",
    "        test_loss, test_cte = epoch_test(test_loader, clf, criterion, metric)\n",
    "\n",
    "        tr_loss_lst.append(train_loss)\n",
    "        tst_loss_lst.append(test_loss)\n",
    "        tr_cte_lst.append(train_cte)\n",
    "        tst_cte_lst.append(test_cte)\n",
    "        \n",
    "      \n",
    "        \n",
    "\n",
    "        print(f'[Epoch {epoch + 1}] train loss: {train_loss:.4f}; train CTE: {train_cte:.4f}; ' + \n",
    "              f'test loss: {test_loss:.3f}; test CTE: {test_cte:.4f}')\n",
    "    return tr_loss_lst, tst_loss_lst, tr_cte_lst, tst_cte_lst "
   ]
  },
  {
   "cell_type": "code",
   "execution_count": 29,
   "id": "9e01ad16",
   "metadata": {},
   "outputs": [
    {
     "name": "stderr",
     "output_type": "stream",
     "text": [
      "  1%|▍                                          | 1/100 [00:02<03:20,  2.02s/it]"
     ]
    },
    {
     "name": "stdout",
     "output_type": "stream",
     "text": [
      "[Epoch 1] train loss: 3.5667; train CTE: 0.9663; test loss: 3.290; test CTE: 0.9726\n"
     ]
    },
    {
     "name": "stderr",
     "output_type": "stream",
     "text": [
      "  2%|▊                                          | 2/100 [00:03<03:12,  1.96s/it]"
     ]
    },
    {
     "name": "stdout",
     "output_type": "stream",
     "text": [
      "[Epoch 2] train loss: 3.2524; train CTE: 0.9756; test loss: 3.255; test CTE: 0.9726\n"
     ]
    },
    {
     "name": "stderr",
     "output_type": "stream",
     "text": [
      "  3%|█▎                                         | 3/100 [00:05<03:09,  1.95s/it]"
     ]
    },
    {
     "name": "stdout",
     "output_type": "stream",
     "text": [
      "[Epoch 3] train loss: 3.0991; train CTE: 0.9808; test loss: 3.101; test CTE: 0.9726\n"
     ]
    },
    {
     "name": "stderr",
     "output_type": "stream",
     "text": [
      "  4%|█▋                                         | 4/100 [00:08<03:49,  2.39s/it]"
     ]
    },
    {
     "name": "stdout",
     "output_type": "stream",
     "text": [
      "[Epoch 4] train loss: 2.8056; train CTE: 0.7252; test loss: 2.624; test CTE: 0.4500\n"
     ]
    },
    {
     "name": "stderr",
     "output_type": "stream",
     "text": [
      "  5%|██▏                                        | 5/100 [00:12<04:38,  2.93s/it]"
     ]
    },
    {
     "name": "stdout",
     "output_type": "stream",
     "text": [
      "[Epoch 5] train loss: 2.3300; train CTE: 0.4822; test loss: 2.224; test CTE: 0.4244\n"
     ]
    },
    {
     "name": "stderr",
     "output_type": "stream",
     "text": [
      "  6%|██▌                                        | 6/100 [00:17<05:15,  3.35s/it]"
     ]
    },
    {
     "name": "stdout",
     "output_type": "stream",
     "text": [
      "[Epoch 6] train loss: 1.9178; train CTE: 0.4006; test loss: 1.796; test CTE: 0.3040\n"
     ]
    },
    {
     "name": "stderr",
     "output_type": "stream",
     "text": [
      "  7%|███                                        | 7/100 [00:21<05:46,  3.72s/it]"
     ]
    },
    {
     "name": "stdout",
     "output_type": "stream",
     "text": [
      "[Epoch 7] train loss: 1.3207; train CTE: 0.2912; test loss: 1.170; test CTE: 0.2795\n"
     ]
    },
    {
     "name": "stderr",
     "output_type": "stream",
     "text": [
      "  8%|███▍                                       | 8/100 [00:26<06:08,  4.01s/it]"
     ]
    },
    {
     "name": "stdout",
     "output_type": "stream",
     "text": [
      "[Epoch 8] train loss: 0.8463; train CTE: 0.2320; test loss: 0.740; test CTE: 0.1980\n"
     ]
    },
    {
     "name": "stderr",
     "output_type": "stream",
     "text": [
      "  9%|███▊                                       | 9/100 [00:30<06:23,  4.22s/it]"
     ]
    },
    {
     "name": "stdout",
     "output_type": "stream",
     "text": [
      "[Epoch 9] train loss: 0.6092; train CTE: 0.2255; test loss: 0.777; test CTE: 0.1965\n"
     ]
    },
    {
     "name": "stderr",
     "output_type": "stream",
     "text": [
      " 10%|████▏                                     | 10/100 [00:35<06:31,  4.36s/it]"
     ]
    },
    {
     "name": "stdout",
     "output_type": "stream",
     "text": [
      "[Epoch 10] train loss: 0.4541; train CTE: 0.1878; test loss: 0.695; test CTE: 0.1887\n"
     ]
    },
    {
     "name": "stderr",
     "output_type": "stream",
     "text": [
      " 11%|████▌                                     | 11/100 [00:40<06:36,  4.45s/it]"
     ]
    },
    {
     "name": "stdout",
     "output_type": "stream",
     "text": [
      "[Epoch 11] train loss: 0.3228; train CTE: 0.1750; test loss: 0.394; test CTE: 0.1432\n"
     ]
    },
    {
     "name": "stderr",
     "output_type": "stream",
     "text": [
      " 12%|█████                                     | 12/100 [00:44<06:37,  4.52s/it]"
     ]
    },
    {
     "name": "stdout",
     "output_type": "stream",
     "text": [
      "[Epoch 12] train loss: 0.2140; train CTE: 0.1622; test loss: 0.441; test CTE: 0.1656\n"
     ]
    },
    {
     "name": "stderr",
     "output_type": "stream",
     "text": [
      " 13%|█████▍                                    | 13/100 [00:49<06:37,  4.56s/it]"
     ]
    },
    {
     "name": "stdout",
     "output_type": "stream",
     "text": [
      "[Epoch 13] train loss: 0.2161; train CTE: 0.1675; test loss: 0.460; test CTE: 0.1439\n"
     ]
    },
    {
     "name": "stderr",
     "output_type": "stream",
     "text": [
      " 14%|█████▉                                    | 14/100 [00:54<06:35,  4.59s/it]"
     ]
    },
    {
     "name": "stdout",
     "output_type": "stream",
     "text": [
      "[Epoch 14] train loss: 0.1953; train CTE: 0.1604; test loss: 0.502; test CTE: 0.1637\n"
     ]
    },
    {
     "name": "stderr",
     "output_type": "stream",
     "text": [
      " 15%|██████▎                                   | 15/100 [00:58<06:33,  4.62s/it]"
     ]
    },
    {
     "name": "stdout",
     "output_type": "stream",
     "text": [
      "[Epoch 15] train loss: 0.1254; train CTE: 0.1630; test loss: 0.346; test CTE: 0.1405\n"
     ]
    },
    {
     "name": "stderr",
     "output_type": "stream",
     "text": [
      " 16%|██████▋                                   | 16/100 [01:03<06:29,  4.63s/it]"
     ]
    },
    {
     "name": "stdout",
     "output_type": "stream",
     "text": [
      "[Epoch 16] train loss: 0.1122; train CTE: 0.1587; test loss: 0.297; test CTE: 0.1453\n"
     ]
    },
    {
     "name": "stderr",
     "output_type": "stream",
     "text": [
      " 17%|███████▏                                  | 17/100 [01:08<06:25,  4.64s/it]"
     ]
    },
    {
     "name": "stdout",
     "output_type": "stream",
     "text": [
      "[Epoch 17] train loss: 0.0951; train CTE: 0.1544; test loss: 0.268; test CTE: 0.1405\n"
     ]
    },
    {
     "name": "stderr",
     "output_type": "stream",
     "text": [
      " 18%|███████▌                                  | 18/100 [01:12<06:21,  4.65s/it]"
     ]
    },
    {
     "name": "stdout",
     "output_type": "stream",
     "text": [
      "[Epoch 18] train loss: 0.0789; train CTE: 0.1461; test loss: 0.363; test CTE: 0.1381\n"
     ]
    },
    {
     "name": "stderr",
     "output_type": "stream",
     "text": [
      " 19%|███████▉                                  | 19/100 [01:17<06:16,  4.65s/it]"
     ]
    },
    {
     "name": "stdout",
     "output_type": "stream",
     "text": [
      "[Epoch 19] train loss: 0.0677; train CTE: 0.1444; test loss: 0.330; test CTE: 0.1386\n"
     ]
    },
    {
     "name": "stderr",
     "output_type": "stream",
     "text": [
      " 20%|████████▍                                 | 20/100 [01:22<06:12,  4.65s/it]"
     ]
    },
    {
     "name": "stdout",
     "output_type": "stream",
     "text": [
      "[Epoch 20] train loss: 0.0456; train CTE: 0.1494; test loss: 0.327; test CTE: 0.1609\n"
     ]
    },
    {
     "name": "stderr",
     "output_type": "stream",
     "text": [
      " 21%|████████▊                                 | 21/100 [01:26<06:08,  4.66s/it]"
     ]
    },
    {
     "name": "stdout",
     "output_type": "stream",
     "text": [
      "[Epoch 21] train loss: 0.1076; train CTE: 0.1575; test loss: 0.485; test CTE: 0.1605\n"
     ]
    },
    {
     "name": "stderr",
     "output_type": "stream",
     "text": [
      " 22%|█████████▏                                | 22/100 [01:31<06:03,  4.66s/it]"
     ]
    },
    {
     "name": "stdout",
     "output_type": "stream",
     "text": [
      "[Epoch 22] train loss: 0.0671; train CTE: 0.1537; test loss: 0.398; test CTE: 0.1573\n"
     ]
    },
    {
     "name": "stderr",
     "output_type": "stream",
     "text": [
      " 23%|█████████▋                                | 23/100 [01:36<06:00,  4.68s/it]"
     ]
    },
    {
     "name": "stdout",
     "output_type": "stream",
     "text": [
      "[Epoch 23] train loss: 0.0620; train CTE: 0.1577; test loss: 0.362; test CTE: 0.1563\n"
     ]
    },
    {
     "name": "stderr",
     "output_type": "stream",
     "text": [
      " 24%|██████████                                | 24/100 [01:40<05:56,  4.70s/it]"
     ]
    },
    {
     "name": "stdout",
     "output_type": "stream",
     "text": [
      "[Epoch 24] train loss: 0.0417; train CTE: 0.1463; test loss: 0.328; test CTE: 0.1374\n"
     ]
    },
    {
     "name": "stderr",
     "output_type": "stream",
     "text": [
      " 25%|██████████▌                               | 25/100 [01:45<05:52,  4.70s/it]"
     ]
    },
    {
     "name": "stdout",
     "output_type": "stream",
     "text": [
      "[Epoch 25] train loss: 0.0346; train CTE: 0.1507; test loss: 0.305; test CTE: 0.1504\n"
     ]
    },
    {
     "name": "stderr",
     "output_type": "stream",
     "text": [
      " 26%|██████████▉                               | 26/100 [01:50<05:48,  4.72s/it]"
     ]
    },
    {
     "name": "stdout",
     "output_type": "stream",
     "text": [
      "[Epoch 26] train loss: 0.0309; train CTE: 0.1499; test loss: 0.316; test CTE: 0.1411\n"
     ]
    },
    {
     "name": "stderr",
     "output_type": "stream",
     "text": [
      " 27%|███████████▎                              | 27/100 [01:55<05:44,  4.72s/it]"
     ]
    },
    {
     "name": "stdout",
     "output_type": "stream",
     "text": [
      "[Epoch 27] train loss: 0.0621; train CTE: 0.1543; test loss: 0.345; test CTE: 0.1447\n"
     ]
    },
    {
     "name": "stderr",
     "output_type": "stream",
     "text": [
      " 28%|███████████▊                              | 28/100 [01:59<05:41,  4.74s/it]"
     ]
    },
    {
     "name": "stdout",
     "output_type": "stream",
     "text": [
      "[Epoch 28] train loss: 0.0623; train CTE: 0.1601; test loss: 0.361; test CTE: 0.1762\n"
     ]
    },
    {
     "name": "stderr",
     "output_type": "stream",
     "text": [
      " 29%|████████████▏                             | 29/100 [02:04<05:36,  4.74s/it]"
     ]
    },
    {
     "name": "stdout",
     "output_type": "stream",
     "text": [
      "[Epoch 29] train loss: 0.0517; train CTE: 0.1554; test loss: 0.327; test CTE: 0.1590\n"
     ]
    },
    {
     "name": "stderr",
     "output_type": "stream",
     "text": [
      " 30%|████████████▌                             | 30/100 [02:09<05:32,  4.75s/it]"
     ]
    },
    {
     "name": "stdout",
     "output_type": "stream",
     "text": [
      "[Epoch 30] train loss: 0.0610; train CTE: 0.1718; test loss: 0.318; test CTE: 0.1683\n"
     ]
    },
    {
     "name": "stderr",
     "output_type": "stream",
     "text": [
      " 31%|█████████████                             | 31/100 [02:14<05:27,  4.74s/it]"
     ]
    },
    {
     "name": "stdout",
     "output_type": "stream",
     "text": [
      "[Epoch 31] train loss: 0.0729; train CTE: 0.1689; test loss: 0.335; test CTE: 0.1493\n"
     ]
    },
    {
     "name": "stderr",
     "output_type": "stream",
     "text": [
      " 32%|█████████████▍                            | 32/100 [02:18<05:23,  4.75s/it]"
     ]
    },
    {
     "name": "stdout",
     "output_type": "stream",
     "text": [
      "[Epoch 32] train loss: 0.0316; train CTE: 0.1656; test loss: 0.308; test CTE: 0.1487\n"
     ]
    },
    {
     "name": "stderr",
     "output_type": "stream",
     "text": [
      " 33%|█████████████▊                            | 33/100 [02:23<05:18,  4.75s/it]"
     ]
    },
    {
     "name": "stdout",
     "output_type": "stream",
     "text": [
      "[Epoch 33] train loss: 0.0240; train CTE: 0.1612; test loss: 0.273; test CTE: 0.1413\n"
     ]
    },
    {
     "name": "stderr",
     "output_type": "stream",
     "text": [
      " 34%|██████████████▎                           | 34/100 [02:28<05:13,  4.75s/it]"
     ]
    },
    {
     "name": "stdout",
     "output_type": "stream",
     "text": [
      "[Epoch 34] train loss: 0.0177; train CTE: 0.1561; test loss: 0.259; test CTE: 0.1373\n"
     ]
    },
    {
     "name": "stderr",
     "output_type": "stream",
     "text": [
      " 35%|██████████████▋                           | 35/100 [02:33<05:08,  4.75s/it]"
     ]
    },
    {
     "name": "stdout",
     "output_type": "stream",
     "text": [
      "[Epoch 35] train loss: 0.0145; train CTE: 0.1585; test loss: 0.272; test CTE: 0.1378\n"
     ]
    },
    {
     "name": "stderr",
     "output_type": "stream",
     "text": [
      " 36%|███████████████                           | 36/100 [02:37<05:03,  4.74s/it]"
     ]
    },
    {
     "name": "stdout",
     "output_type": "stream",
     "text": [
      "[Epoch 36] train loss: 0.0106; train CTE: 0.1437; test loss: 0.295; test CTE: 0.1376\n"
     ]
    },
    {
     "name": "stderr",
     "output_type": "stream",
     "text": [
      " 37%|███████████████▌                          | 37/100 [02:42<04:58,  4.74s/it]"
     ]
    },
    {
     "name": "stdout",
     "output_type": "stream",
     "text": [
      "[Epoch 37] train loss: 0.0103; train CTE: 0.1520; test loss: 0.294; test CTE: 0.1449\n"
     ]
    },
    {
     "name": "stderr",
     "output_type": "stream",
     "text": [
      " 38%|███████████████▉                          | 38/100 [02:47<04:54,  4.74s/it]"
     ]
    },
    {
     "name": "stdout",
     "output_type": "stream",
     "text": [
      "[Epoch 38] train loss: 0.0145; train CTE: 0.1562; test loss: 0.314; test CTE: 0.1567\n"
     ]
    },
    {
     "name": "stderr",
     "output_type": "stream",
     "text": [
      " 39%|████████████████▍                         | 39/100 [02:52<04:48,  4.74s/it]"
     ]
    },
    {
     "name": "stdout",
     "output_type": "stream",
     "text": [
      "[Epoch 39] train loss: 0.0182; train CTE: 0.1539; test loss: 0.333; test CTE: 0.1356\n"
     ]
    },
    {
     "name": "stderr",
     "output_type": "stream",
     "text": [
      " 40%|████████████████▊                         | 40/100 [02:56<04:43,  4.73s/it]"
     ]
    },
    {
     "name": "stdout",
     "output_type": "stream",
     "text": [
      "[Epoch 40] train loss: 0.0231; train CTE: 0.1486; test loss: 0.320; test CTE: 0.1436\n"
     ]
    },
    {
     "name": "stderr",
     "output_type": "stream",
     "text": [
      " 41%|█████████████████▏                        | 41/100 [03:01<04:38,  4.73s/it]"
     ]
    },
    {
     "name": "stdout",
     "output_type": "stream",
     "text": [
      "[Epoch 41] train loss: 0.0488; train CTE: 0.1475; test loss: 0.346; test CTE: 0.1333\n"
     ]
    },
    {
     "name": "stderr",
     "output_type": "stream",
     "text": [
      " 42%|█████████████████▋                        | 42/100 [03:06<04:34,  4.73s/it]"
     ]
    },
    {
     "name": "stdout",
     "output_type": "stream",
     "text": [
      "[Epoch 42] train loss: 0.0537; train CTE: 0.1616; test loss: 0.347; test CTE: 0.1325\n"
     ]
    },
    {
     "name": "stderr",
     "output_type": "stream",
     "text": [
      " 43%|██████████████████                        | 43/100 [03:10<04:29,  4.72s/it]"
     ]
    },
    {
     "name": "stdout",
     "output_type": "stream",
     "text": [
      "[Epoch 43] train loss: 0.0387; train CTE: 0.1540; test loss: 0.322; test CTE: 0.1383\n"
     ]
    },
    {
     "name": "stderr",
     "output_type": "stream",
     "text": [
      " 44%|██████████████████▍                       | 44/100 [03:15<04:24,  4.72s/it]"
     ]
    },
    {
     "name": "stdout",
     "output_type": "stream",
     "text": [
      "[Epoch 44] train loss: 0.0580; train CTE: 0.1608; test loss: 0.317; test CTE: 0.1462\n"
     ]
    },
    {
     "name": "stderr",
     "output_type": "stream",
     "text": [
      " 45%|██████████████████▉                       | 45/100 [03:20<04:19,  4.72s/it]"
     ]
    },
    {
     "name": "stdout",
     "output_type": "stream",
     "text": [
      "[Epoch 45] train loss: 0.0461; train CTE: 0.1516; test loss: 0.257; test CTE: 0.1594\n"
     ]
    },
    {
     "name": "stderr",
     "output_type": "stream",
     "text": [
      " 46%|███████████████████▎                      | 46/100 [03:25<04:15,  4.73s/it]"
     ]
    },
    {
     "name": "stdout",
     "output_type": "stream",
     "text": [
      "[Epoch 46] train loss: 0.0500; train CTE: 0.1730; test loss: 0.282; test CTE: 0.1366\n"
     ]
    },
    {
     "name": "stderr",
     "output_type": "stream",
     "text": [
      " 47%|███████████████████▋                      | 47/100 [03:29<04:11,  4.74s/it]"
     ]
    },
    {
     "name": "stdout",
     "output_type": "stream",
     "text": [
      "[Epoch 47] train loss: 0.0306; train CTE: 0.1558; test loss: 0.307; test CTE: 0.1629\n"
     ]
    },
    {
     "name": "stderr",
     "output_type": "stream",
     "text": [
      " 48%|████████████████████▏                     | 48/100 [03:34<04:06,  4.74s/it]"
     ]
    },
    {
     "name": "stdout",
     "output_type": "stream",
     "text": [
      "[Epoch 48] train loss: 0.0172; train CTE: 0.1566; test loss: 0.280; test CTE: 0.1446\n"
     ]
    },
    {
     "name": "stderr",
     "output_type": "stream",
     "text": [
      " 49%|████████████████████▌                     | 49/100 [03:39<04:00,  4.72s/it]"
     ]
    },
    {
     "name": "stdout",
     "output_type": "stream",
     "text": [
      "[Epoch 49] train loss: 0.0115; train CTE: 0.1392; test loss: 0.300; test CTE: 0.1520\n"
     ]
    },
    {
     "name": "stderr",
     "output_type": "stream",
     "text": [
      " 50%|█████████████████████                     | 50/100 [03:43<03:54,  4.69s/it]"
     ]
    },
    {
     "name": "stdout",
     "output_type": "stream",
     "text": [
      "[Epoch 50] train loss: 0.0077; train CTE: 0.1487; test loss: 0.314; test CTE: 0.1514\n"
     ]
    },
    {
     "name": "stderr",
     "output_type": "stream",
     "text": [
      " 51%|█████████████████████▍                    | 51/100 [03:48<03:48,  4.67s/it]"
     ]
    },
    {
     "name": "stdout",
     "output_type": "stream",
     "text": [
      "[Epoch 51] train loss: 0.0158; train CTE: 0.1559; test loss: 0.342; test CTE: 0.1887\n"
     ]
    },
    {
     "name": "stderr",
     "output_type": "stream",
     "text": [
      " 52%|█████████████████████▊                    | 52/100 [03:53<03:43,  4.66s/it]"
     ]
    },
    {
     "name": "stdout",
     "output_type": "stream",
     "text": [
      "[Epoch 52] train loss: 0.0248; train CTE: 0.1650; test loss: 0.287; test CTE: 0.1687\n"
     ]
    },
    {
     "name": "stderr",
     "output_type": "stream",
     "text": [
      " 53%|██████████████████████▎                   | 53/100 [03:57<03:38,  4.65s/it]"
     ]
    },
    {
     "name": "stdout",
     "output_type": "stream",
     "text": [
      "[Epoch 53] train loss: 0.0168; train CTE: 0.1591; test loss: 0.324; test CTE: 0.1577\n"
     ]
    },
    {
     "name": "stderr",
     "output_type": "stream",
     "text": [
      " 54%|██████████████████████▋                   | 54/100 [04:02<03:33,  4.64s/it]"
     ]
    },
    {
     "name": "stdout",
     "output_type": "stream",
     "text": [
      "[Epoch 54] train loss: 0.0085; train CTE: 0.1537; test loss: 0.326; test CTE: 0.1347\n"
     ]
    },
    {
     "name": "stderr",
     "output_type": "stream",
     "text": [
      " 55%|███████████████████████                   | 55/100 [04:07<03:28,  4.63s/it]"
     ]
    },
    {
     "name": "stdout",
     "output_type": "stream",
     "text": [
      "[Epoch 55] train loss: 0.0098; train CTE: 0.1443; test loss: 0.331; test CTE: 0.1470\n"
     ]
    },
    {
     "name": "stderr",
     "output_type": "stream",
     "text": [
      " 56%|███████████████████████▌                  | 56/100 [04:11<03:23,  4.62s/it]"
     ]
    },
    {
     "name": "stdout",
     "output_type": "stream",
     "text": [
      "[Epoch 56] train loss: 0.0055; train CTE: 0.1434; test loss: 0.313; test CTE: 0.1505\n"
     ]
    },
    {
     "name": "stderr",
     "output_type": "stream",
     "text": [
      " 57%|███████████████████████▉                  | 57/100 [04:16<03:18,  4.62s/it]"
     ]
    },
    {
     "name": "stdout",
     "output_type": "stream",
     "text": [
      "[Epoch 57] train loss: 0.0060; train CTE: 0.1540; test loss: 0.325; test CTE: 0.1689\n"
     ]
    },
    {
     "name": "stderr",
     "output_type": "stream",
     "text": [
      " 58%|████████████████████████▎                 | 58/100 [04:20<03:13,  4.62s/it]"
     ]
    },
    {
     "name": "stdout",
     "output_type": "stream",
     "text": [
      "[Epoch 58] train loss: 0.0043; train CTE: 0.1484; test loss: 0.328; test CTE: 0.1459\n"
     ]
    },
    {
     "name": "stderr",
     "output_type": "stream",
     "text": [
      " 59%|████████████████████████▊                 | 59/100 [04:25<03:09,  4.61s/it]"
     ]
    },
    {
     "name": "stdout",
     "output_type": "stream",
     "text": [
      "[Epoch 59] train loss: 0.0052; train CTE: 0.1537; test loss: 0.317; test CTE: 0.1432\n"
     ]
    },
    {
     "name": "stderr",
     "output_type": "stream",
     "text": [
      " 60%|█████████████████████████▏                | 60/100 [04:30<03:04,  4.61s/it]"
     ]
    },
    {
     "name": "stdout",
     "output_type": "stream",
     "text": [
      "[Epoch 60] train loss: 0.0143; train CTE: 0.1589; test loss: 0.342; test CTE: 0.1594\n"
     ]
    },
    {
     "name": "stderr",
     "output_type": "stream",
     "text": [
      " 61%|█████████████████████████▌                | 61/100 [04:34<03:01,  4.66s/it]"
     ]
    },
    {
     "name": "stdout",
     "output_type": "stream",
     "text": [
      "[Epoch 61] train loss: 0.0266; train CTE: 0.1654; test loss: 0.319; test CTE: 0.1656\n"
     ]
    },
    {
     "name": "stderr",
     "output_type": "stream",
     "text": [
      " 62%|██████████████████████████                | 62/100 [04:39<02:58,  4.69s/it]"
     ]
    },
    {
     "name": "stdout",
     "output_type": "stream",
     "text": [
      "[Epoch 62] train loss: 0.0207; train CTE: 0.1587; test loss: 0.320; test CTE: 0.1564\n"
     ]
    },
    {
     "name": "stderr",
     "output_type": "stream",
     "text": [
      " 63%|██████████████████████████▍               | 63/100 [04:44<02:53,  4.69s/it]"
     ]
    },
    {
     "name": "stdout",
     "output_type": "stream",
     "text": [
      "[Epoch 63] train loss: 0.0277; train CTE: 0.1542; test loss: 0.356; test CTE: 0.1680\n"
     ]
    },
    {
     "name": "stderr",
     "output_type": "stream",
     "text": [
      " 64%|██████████████████████████▉               | 64/100 [04:49<02:48,  4.69s/it]"
     ]
    },
    {
     "name": "stdout",
     "output_type": "stream",
     "text": [
      "[Epoch 64] train loss: 0.0221; train CTE: 0.1582; test loss: 0.321; test CTE: 0.1623\n"
     ]
    },
    {
     "name": "stderr",
     "output_type": "stream",
     "text": [
      " 65%|███████████████████████████▎              | 65/100 [04:53<02:44,  4.70s/it]"
     ]
    },
    {
     "name": "stdout",
     "output_type": "stream",
     "text": [
      "[Epoch 65] train loss: 0.0150; train CTE: 0.1615; test loss: 0.289; test CTE: 0.1216\n"
     ]
    },
    {
     "name": "stderr",
     "output_type": "stream",
     "text": [
      " 66%|███████████████████████████▋              | 66/100 [04:58<02:40,  4.73s/it]"
     ]
    },
    {
     "name": "stdout",
     "output_type": "stream",
     "text": [
      "[Epoch 66] train loss: 0.0279; train CTE: 0.1527; test loss: 0.288; test CTE: 0.1557\n"
     ]
    },
    {
     "name": "stderr",
     "output_type": "stream",
     "text": [
      " 67%|████████████████████████████▏             | 67/100 [05:03<02:37,  4.77s/it]"
     ]
    },
    {
     "name": "stdout",
     "output_type": "stream",
     "text": [
      "[Epoch 67] train loss: 0.0278; train CTE: 0.1528; test loss: 0.254; test CTE: 0.1360\n"
     ]
    },
    {
     "name": "stderr",
     "output_type": "stream",
     "text": [
      " 68%|████████████████████████████▌             | 68/100 [05:08<02:33,  4.80s/it]"
     ]
    },
    {
     "name": "stdout",
     "output_type": "stream",
     "text": [
      "[Epoch 68] train loss: 0.0525; train CTE: 0.1616; test loss: 0.963; test CTE: 0.2201\n"
     ]
    },
    {
     "name": "stderr",
     "output_type": "stream",
     "text": [
      " 69%|████████████████████████████▉             | 69/100 [05:12<02:28,  4.79s/it]"
     ]
    },
    {
     "name": "stdout",
     "output_type": "stream",
     "text": [
      "[Epoch 69] train loss: 0.0413; train CTE: 0.1648; test loss: 0.286; test CTE: 0.1410\n"
     ]
    },
    {
     "name": "stderr",
     "output_type": "stream",
     "text": [
      " 70%|█████████████████████████████▍            | 70/100 [05:17<02:23,  4.78s/it]"
     ]
    },
    {
     "name": "stdout",
     "output_type": "stream",
     "text": [
      "[Epoch 70] train loss: 0.0366; train CTE: 0.1671; test loss: 0.273; test CTE: 0.1620\n"
     ]
    },
    {
     "name": "stderr",
     "output_type": "stream",
     "text": [
      " 71%|█████████████████████████████▊            | 71/100 [05:22<02:17,  4.75s/it]"
     ]
    },
    {
     "name": "stdout",
     "output_type": "stream",
     "text": [
      "[Epoch 71] train loss: 0.0229; train CTE: 0.1532; test loss: 0.276; test CTE: 0.1463\n"
     ]
    },
    {
     "name": "stderr",
     "output_type": "stream",
     "text": [
      " 72%|██████████████████████████████▏           | 72/100 [05:27<02:12,  4.74s/it]"
     ]
    },
    {
     "name": "stdout",
     "output_type": "stream",
     "text": [
      "[Epoch 72] train loss: 0.0118; train CTE: 0.1560; test loss: 0.270; test CTE: 0.1556\n"
     ]
    },
    {
     "name": "stderr",
     "output_type": "stream",
     "text": [
      " 73%|██████████████████████████████▋           | 73/100 [05:31<02:07,  4.72s/it]"
     ]
    },
    {
     "name": "stdout",
     "output_type": "stream",
     "text": [
      "[Epoch 73] train loss: 0.0224; train CTE: 0.1568; test loss: 0.307; test CTE: 0.1629\n"
     ]
    },
    {
     "name": "stderr",
     "output_type": "stream",
     "text": [
      " 74%|███████████████████████████████           | 74/100 [05:36<02:02,  4.71s/it]"
     ]
    },
    {
     "name": "stdout",
     "output_type": "stream",
     "text": [
      "[Epoch 74] train loss: 0.0098; train CTE: 0.1576; test loss: 0.298; test CTE: 0.1561\n"
     ]
    },
    {
     "name": "stderr",
     "output_type": "stream",
     "text": [
      " 75%|███████████████████████████████▌          | 75/100 [05:41<01:57,  4.71s/it]"
     ]
    },
    {
     "name": "stdout",
     "output_type": "stream",
     "text": [
      "[Epoch 75] train loss: 0.0060; train CTE: 0.1663; test loss: 0.293; test CTE: 0.1400\n"
     ]
    },
    {
     "name": "stderr",
     "output_type": "stream",
     "text": [
      " 76%|███████████████████████████████▉          | 76/100 [05:45<01:52,  4.71s/it]"
     ]
    },
    {
     "name": "stdout",
     "output_type": "stream",
     "text": [
      "[Epoch 76] train loss: 0.0037; train CTE: 0.1612; test loss: 0.296; test CTE: 0.1562\n"
     ]
    },
    {
     "name": "stderr",
     "output_type": "stream",
     "text": [
      " 77%|████████████████████████████████▎         | 77/100 [05:50<01:48,  4.72s/it]"
     ]
    },
    {
     "name": "stdout",
     "output_type": "stream",
     "text": [
      "[Epoch 77] train loss: 0.0049; train CTE: 0.1634; test loss: 0.305; test CTE: 0.1626\n"
     ]
    },
    {
     "name": "stderr",
     "output_type": "stream",
     "text": [
      " 78%|████████████████████████████████▊         | 78/100 [05:55<01:43,  4.72s/it]"
     ]
    },
    {
     "name": "stdout",
     "output_type": "stream",
     "text": [
      "[Epoch 78] train loss: 0.0039; train CTE: 0.1661; test loss: 0.294; test CTE: 0.1595\n"
     ]
    },
    {
     "name": "stderr",
     "output_type": "stream",
     "text": [
      " 79%|█████████████████████████████████▏        | 79/100 [06:00<01:39,  4.73s/it]"
     ]
    },
    {
     "name": "stdout",
     "output_type": "stream",
     "text": [
      "[Epoch 79] train loss: 0.0033; train CTE: 0.1567; test loss: 0.302; test CTE: 0.1444\n"
     ]
    },
    {
     "name": "stderr",
     "output_type": "stream",
     "text": [
      " 80%|█████████████████████████████████▌        | 80/100 [06:04<01:34,  4.75s/it]"
     ]
    },
    {
     "name": "stdout",
     "output_type": "stream",
     "text": [
      "[Epoch 80] train loss: 0.0032; train CTE: 0.1488; test loss: 0.297; test CTE: 0.1517\n"
     ]
    },
    {
     "name": "stderr",
     "output_type": "stream",
     "text": [
      " 81%|██████████████████████████████████        | 81/100 [06:09<01:30,  4.75s/it]"
     ]
    },
    {
     "name": "stdout",
     "output_type": "stream",
     "text": [
      "[Epoch 81] train loss: 0.0104; train CTE: 0.1562; test loss: 0.285; test CTE: 0.1439\n"
     ]
    },
    {
     "name": "stderr",
     "output_type": "stream",
     "text": [
      " 82%|██████████████████████████████████▍       | 82/100 [06:14<01:25,  4.75s/it]"
     ]
    },
    {
     "name": "stdout",
     "output_type": "stream",
     "text": [
      "[Epoch 82] train loss: 0.0070; train CTE: 0.1487; test loss: 0.291; test CTE: 0.1570\n"
     ]
    },
    {
     "name": "stderr",
     "output_type": "stream",
     "text": [
      " 83%|██████████████████████████████████▊       | 83/100 [06:19<01:21,  4.77s/it]"
     ]
    },
    {
     "name": "stdout",
     "output_type": "stream",
     "text": [
      "[Epoch 83] train loss: 0.0033; train CTE: 0.1750; test loss: 0.306; test CTE: 0.1435\n"
     ]
    },
    {
     "name": "stderr",
     "output_type": "stream",
     "text": [
      " 84%|███████████████████████████████████▎      | 84/100 [06:24<01:16,  4.78s/it]"
     ]
    },
    {
     "name": "stdout",
     "output_type": "stream",
     "text": [
      "[Epoch 84] train loss: 0.0016; train CTE: 0.1540; test loss: 0.308; test CTE: 0.1396\n"
     ]
    },
    {
     "name": "stderr",
     "output_type": "stream",
     "text": [
      " 85%|███████████████████████████████████▋      | 85/100 [06:28<01:11,  4.79s/it]"
     ]
    },
    {
     "name": "stdout",
     "output_type": "stream",
     "text": [
      "[Epoch 85] train loss: 0.0019; train CTE: 0.1619; test loss: 0.310; test CTE: 0.1372\n"
     ]
    },
    {
     "name": "stderr",
     "output_type": "stream",
     "text": [
      " 86%|████████████████████████████████████      | 86/100 [06:33<01:06,  4.78s/it]"
     ]
    },
    {
     "name": "stdout",
     "output_type": "stream",
     "text": [
      "[Epoch 86] train loss: 0.0038; train CTE: 0.1512; test loss: 0.292; test CTE: 0.1364\n"
     ]
    },
    {
     "name": "stderr",
     "output_type": "stream",
     "text": [
      " 87%|████████████████████████████████████▌     | 87/100 [06:38<01:02,  4.77s/it]"
     ]
    },
    {
     "name": "stdout",
     "output_type": "stream",
     "text": [
      "[Epoch 87] train loss: 0.0022; train CTE: 0.1568; test loss: 0.301; test CTE: 0.1291\n"
     ]
    },
    {
     "name": "stderr",
     "output_type": "stream",
     "text": [
      " 88%|████████████████████████████████████▉     | 88/100 [06:43<00:57,  4.76s/it]"
     ]
    },
    {
     "name": "stdout",
     "output_type": "stream",
     "text": [
      "[Epoch 88] train loss: 0.0038; train CTE: 0.1484; test loss: 0.262; test CTE: 0.1338\n"
     ]
    },
    {
     "name": "stderr",
     "output_type": "stream",
     "text": [
      " 89%|█████████████████████████████████████▍    | 89/100 [06:47<00:52,  4.75s/it]"
     ]
    },
    {
     "name": "stdout",
     "output_type": "stream",
     "text": [
      "[Epoch 89] train loss: 0.0054; train CTE: 0.1518; test loss: 0.309; test CTE: 0.1265\n"
     ]
    },
    {
     "name": "stderr",
     "output_type": "stream",
     "text": [
      " 90%|█████████████████████████████████████▊    | 90/100 [06:52<00:47,  4.75s/it]"
     ]
    },
    {
     "name": "stdout",
     "output_type": "stream",
     "text": [
      "[Epoch 90] train loss: 0.0014; train CTE: 0.1506; test loss: 0.320; test CTE: 0.1209\n"
     ]
    },
    {
     "name": "stderr",
     "output_type": "stream",
     "text": [
      " 91%|██████████████████████████████████████▏   | 91/100 [06:57<00:42,  4.74s/it]"
     ]
    },
    {
     "name": "stdout",
     "output_type": "stream",
     "text": [
      "[Epoch 91] train loss: 0.0019; train CTE: 0.1479; test loss: 0.367; test CTE: 0.1313\n"
     ]
    },
    {
     "name": "stderr",
     "output_type": "stream",
     "text": [
      " 92%|██████████████████████████████████████▋   | 92/100 [07:02<00:37,  4.73s/it]"
     ]
    },
    {
     "name": "stdout",
     "output_type": "stream",
     "text": [
      "[Epoch 92] train loss: 0.0088; train CTE: 0.1525; test loss: 0.317; test CTE: 0.1332\n"
     ]
    },
    {
     "name": "stderr",
     "output_type": "stream",
     "text": [
      " 93%|███████████████████████████████████████   | 93/100 [07:06<00:33,  4.73s/it]"
     ]
    },
    {
     "name": "stdout",
     "output_type": "stream",
     "text": [
      "[Epoch 93] train loss: 0.0033; train CTE: 0.1506; test loss: 0.321; test CTE: 0.1298\n"
     ]
    },
    {
     "name": "stderr",
     "output_type": "stream",
     "text": [
      " 94%|███████████████████████████████████████▍  | 94/100 [07:11<00:28,  4.72s/it]"
     ]
    },
    {
     "name": "stdout",
     "output_type": "stream",
     "text": [
      "[Epoch 94] train loss: 0.0051; train CTE: 0.1634; test loss: 0.329; test CTE: 0.1595\n"
     ]
    },
    {
     "name": "stderr",
     "output_type": "stream",
     "text": [
      " 95%|███████████████████████████████████████▉  | 95/100 [07:16<00:23,  4.72s/it]"
     ]
    },
    {
     "name": "stdout",
     "output_type": "stream",
     "text": [
      "[Epoch 95] train loss: 0.0047; train CTE: 0.1578; test loss: 0.291; test CTE: 0.1452\n"
     ]
    },
    {
     "name": "stderr",
     "output_type": "stream",
     "text": [
      " 96%|████████████████████████████████████████▎ | 96/100 [07:20<00:18,  4.72s/it]"
     ]
    },
    {
     "name": "stdout",
     "output_type": "stream",
     "text": [
      "[Epoch 96] train loss: 0.0051; train CTE: 0.1506; test loss: 0.305; test CTE: 0.1628\n"
     ]
    },
    {
     "name": "stderr",
     "output_type": "stream",
     "text": [
      " 97%|████████████████████████████████████████▋ | 97/100 [07:25<00:14,  4.71s/it]"
     ]
    },
    {
     "name": "stdout",
     "output_type": "stream",
     "text": [
      "[Epoch 97] train loss: 0.0600; train CTE: 0.1618; test loss: 0.435; test CTE: 0.1717\n"
     ]
    },
    {
     "name": "stderr",
     "output_type": "stream",
     "text": [
      " 98%|█████████████████████████████████████████▏| 98/100 [07:30<00:09,  4.71s/it]"
     ]
    },
    {
     "name": "stdout",
     "output_type": "stream",
     "text": [
      "[Epoch 98] train loss: 0.0503; train CTE: 0.1748; test loss: 0.350; test CTE: 0.1486\n"
     ]
    },
    {
     "name": "stderr",
     "output_type": "stream",
     "text": [
      " 99%|█████████████████████████████████████████▌| 99/100 [07:34<00:04,  4.70s/it]"
     ]
    },
    {
     "name": "stdout",
     "output_type": "stream",
     "text": [
      "[Epoch 99] train loss: 0.0720; train CTE: 0.1659; test loss: 0.358; test CTE: 0.1513\n"
     ]
    },
    {
     "name": "stderr",
     "output_type": "stream",
     "text": [
      "100%|█████████████████████████████████████████| 100/100 [07:39<00:00,  4.60s/it]"
     ]
    },
    {
     "name": "stdout",
     "output_type": "stream",
     "text": [
      "[Epoch 100] train loss: 0.0581; train CTE: 0.1975; test loss: 0.339; test CTE: 0.1562\n"
     ]
    },
    {
     "name": "stderr",
     "output_type": "stream",
     "text": [
      "\n"
     ]
    }
   ],
   "source": [
    "model = Network(in_channels=1).to(device)\n",
    "opt = torch.optim.Adam(model.parameters(), lr=4e-3)\n",
    "# scheduler = ReduceLROnPlateau(opt, 'max')\n",
    "scheduler = None\n",
    "loss_func = nn.CTCLoss()\n",
    "metric = torchmetrics.CharErrorRate()\n",
    "loss_train, tst_loss, tr_cte, tst_cte  = train(train_loader, test_loader, model, loss_func, opt, metric, n_epochs=100)# Your experiments, training and validation loops here"
   ]
  },
  {
   "cell_type": "markdown",
   "id": "b39feb14",
   "metadata": {},
   "source": [
    "### Подсчет метрик"
   ]
  },
  {
   "cell_type": "markdown",
   "id": "9afa25e2",
   "metadata": {},
   "source": [
    "Во время решения я пытался по разному модифицировать сеть, изменяя глубину lstm, количество конволюционных блоков, но сеть отчаянно запоминала данные. В итоге хоть как-то помог решить проблему дропаут, хоть можно было использовать аугментацию, но я был не уверен, что это является корректным шагом в данной задаче. Для улучшения результатов можно было попробывать использовать scheduler, но как я отмечал ранее мне кажется что сеть именно переучивается, он может только усугубить ситуацию "
   ]
  },
  {
   "cell_type": "code",
   "execution_count": 38,
   "id": "826a4e5b",
   "metadata": {},
   "outputs": [
    {
     "data": {
      "image/png": "[encoded data removed]",
      "text/plain": [
       "<Figure size 1080x1080 with 4 Axes>"
      ]
     },
     "metadata": {
      "needs_background": "light"
     },
     "output_type": "display_data"
    }
   ],
   "source": [
    "import matplotlib.pyplot as plt\n",
    "figure, axis = plt.subplots(2, 2,  figsize=(15, 15))\n",
    "X = [i for i in range(1, 101)]\n",
    "  \n",
    "axis[0, 0].plot(X, loss_train)\n",
    "axis[0, 0].set_title(\"CTCLoss on train\")\n",
    "axis[0, 0].set_xlabel(\"Epoch\")\n",
    "axis[0, 0].set_ylabel('CTCLoss')\n",
    "  \n",
    "axis[0, 1].plot(X, tst_loss)\n",
    "axis[0, 1].set_title(\"CTCLoss on test\")\n",
    "axis[0, 1].set_xlabel(\"Epoch\")\n",
    "axis[0, 1].set_ylabel('CTCLoss')\n",
    "  \n",
    "axis[1, 0].plot(X, tr_cte)\n",
    "axis[1, 0].set_title(\"CTE on train\")\n",
    "axis[1, 0].set_xlabel(\"Epoch\")\n",
    "axis[1, 0].set_ylabel('CharErrorRate')\n",
    "  \n",
    "axis[1, 1].plot(X, tst_cte)\n",
    "axis[1, 1].set_title(\"CTE on test\")\n",
    "axis[1, 1].set_xlabel(\"Epoch\")\n",
    "axis[1, 1].set_ylabel('CharErrorRate')\n",
    "  \n",
    "plt.show()"
   ]
  },
  {
   "cell_type": "markdown",
   "id": "b4cf3799",
   "metadata": {},
   "source": [
    "### Анализ ошибок модели."
   ]
  },
  {
   "cell_type": "code",
   "execution_count": 75,
   "id": "1fa1dccd",
   "metadata": {},
   "outputs": [],
   "source": [
    "dem_loader = DataLoader(test_dataset, batch_size=1, shuffle=False)\n",
    "model.eval()\n",
    "dem_list = []\n",
    "for img, label in dem_loader:\n",
    "    img, labels = img.to(device), label.to(device) \n",
    "    out, input_lengths, target_lengths = model.forward(img)\n",
    "\n",
    "    out = out.permute(1, 0, 2)\n",
    "    out = out.log_softmax(2)\n",
    "    out = out.argmax(-1)\n",
    "\n",
    "    decoded_out = decode_nums(out)\n",
    "    decoded_labels = decode_nums(labels)\n",
    "\n",
    "    dem_list.append((metric(decoded_out, decoded_labels).item(), decoded_out, decoded_labels))"
   ]
  },
  {
   "cell_type": "code",
   "execution_count": 76,
   "id": "d6ebddf9",
   "metadata": {},
   "outputs": [],
   "source": [
    "dem_list.sort(reverse=True)"
   ]
  },
  {
   "cell_type": "code",
   "execution_count": 77,
   "id": "6f8edb0d",
   "metadata": {},
   "outputs": [],
   "source": [
    "split = dem_list[:5]"
   ]
  },
  {
   "cell_type": "code",
   "execution_count": 96,
   "id": "e00b2d0d",
   "metadata": {},
   "outputs": [
    {
     "name": "stdout",
     "output_type": "stream",
     "text": [
      "[\"adatensor(2, device='cuda:1')xpppaa\"] ['ddxpp']\n",
      "['awanaaecaa'] ['wnpec']\n",
      "['apbapaccaa'] ['pbpgc']\n",
      "['apawanbnaa'] ['pwmbn']\n",
      "['agyaaamnaa'] ['gymmn']\n"
     ]
    }
   ],
   "source": [
    "for pos, (val, out, label) in enumerate(split):\n",
    "    print(out, label)"
   ]
  },
  {
   "cell_type": "markdown",
   "id": "f27e8845",
   "metadata": {},
   "source": [
    "Идейно он их находит правильно, но он почему-то добаввляет а, возможно добавление - в статье было связанно с этим. "
   ]
  },
  {
   "cell_type": "code",
   "execution_count": null,
   "id": "80839cde",
   "metadata": {},
   "outputs": [],
   "source": []
  }
 ],
 "metadata": {
  "kernelspec": {
   "display_name": "Python 3 (ipykernel)",
   "language": "python",
   "name": "python3"
  },
  "language_info": {
   "codemirror_mode": {
    "name": "ipython",
    "version": 3
   },
   "file_extension": ".py",
   "mimetype": "text/x-python",
   "name": "python",
   "nbconvert_exporter": "python",
   "pygments_lexer": "ipython3",
   "version": "3.9.6"
  }
 },
 "nbformat": 4,
 "nbformat_minor": 5
}
